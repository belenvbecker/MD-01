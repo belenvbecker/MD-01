{
 "cells": [
  {
   "cell_type": "code",
   "execution_count": 5,
   "metadata": {},
   "outputs": [],
   "source": [
    "import numpy as np"
   ]
  },
  {
   "cell_type": "code",
   "execution_count": 13,
   "metadata": {},
   "outputs": [
    {
     "name": "stdout",
     "output_type": "stream",
     "text": [
      "[ 10  11  12  13  14  15  16  17  18  19  20  21  22  23  24  25  26  27\n",
      "  28  29  30  31  32  33  34  35  36  37  38  39  40  41  42  43  44  45\n",
      "  46  47  48  49  50  51  52  53  54  55  56  57  58  59  60  61  62  63\n",
      "  64  65  66  67  68  69  70  71  72  73  74  75  76  77  78  79  80  81\n",
      "  82  83  84  85  86  87  88  89  90  91  92  93  94  95  96  97  98  99\n",
      " 100]\n",
      "12\n",
      "15\n",
      "18\n",
      "21\n",
      "24\n",
      "27\n",
      "30\n",
      "33\n",
      "36\n",
      "39\n",
      "42\n",
      "45\n",
      "48\n",
      "51\n",
      "54\n",
      "57\n",
      "60\n",
      "63\n",
      "66\n",
      "69\n",
      "72\n",
      "75\n",
      "78\n",
      "81\n",
      "84\n",
      "87\n",
      "90\n",
      "93\n",
      "96\n",
      "99\n"
     ]
    }
   ],
   "source": [
    "arreglo=np.arange(10,101)\n",
    "print(arreglo)\n",
    "\n",
    "mask=arreglo%3==0\n",
    "mask\n",
    "\n",
    "for i in arreglo:\n",
    "    if i %3 == 0:\n",
    "        print (i)"
   ]
  },
  {
   "cell_type": "code",
   "execution_count": 35,
   "metadata": {},
   "outputs": [
    {
     "name": "stdout",
     "output_type": "stream",
     "text": [
      "[[0. 0. 0. 0. 0. 0. 0. 0. 0. 0.]\n",
      " [0. 0. 0. 0. 0. 0. 0. 0. 0. 0.]\n",
      " [0. 0. 0. 0. 0. 0. 0. 0. 0. 0.]\n",
      " [0. 0. 0. 0. 0. 0. 0. 0. 0. 0.]\n",
      " [0. 0. 0. 0. 0. 0. 0. 0. 0. 0.]]\n"
     ]
    }
   ],
   "source": [
    "ar1=np.zeros((5,10))\n",
    "print(ar1)"
   ]
  },
  {
   "cell_type": "code",
   "execution_count": 29,
   "metadata": {},
   "outputs": [
    {
     "name": "stdout",
     "output_type": "stream",
     "text": [
      "[[0. 0. 0. 0. 0. 0. 0. 0. 0. 0.]\n",
      " [1. 1. 1. 1. 1. 1. 1. 1. 1. 1.]\n",
      " [0. 0. 0. 0. 0. 0. 0. 0. 0. 0.]\n",
      " [1. 1. 1. 1. 1. 1. 1. 1. 1. 1.]\n",
      " [0. 0. 0. 0. 0. 0. 0. 0. 0. 0.]]\n"
     ]
    }
   ],
   "source": [
    "ar1[1]=ar1[1]+1\n",
    "ar1[3]=ar1[3]+1\n",
    "\n",
    "print(ar1)"
   ]
  },
  {
   "cell_type": "code",
   "execution_count": 37,
   "metadata": {},
   "outputs": [
    {
     "name": "stdout",
     "output_type": "stream",
     "text": [
      "[[0. 0. 0. 0. 0. 0. 0. 0. 0. 0.]\n",
      " [1. 1. 1. 1. 1. 1. 1. 1. 1. 1.]\n",
      " [0. 0. 0. 0. 0. 0. 0. 0. 0. 0.]\n",
      " [1. 1. 1. 1. 1. 1. 1. 1. 1. 1.]\n",
      " [0. 0. 0. 0. 0. 0. 0. 0. 0. 0.]]\n"
     ]
    }
   ],
   "source": [
    "ar1[[1,3],:]=1\n",
    "print(ar1)"
   ]
  },
  {
   "cell_type": "code",
   "execution_count": 38,
   "metadata": {},
   "outputs": [
    {
     "name": "stdout",
     "output_type": "stream",
     "text": [
      "[0.         0.09090909 0.18181818 0.27272727 0.36363636 0.45454545\n",
      " 0.54545455 0.63636364 0.72727273 0.81818182 0.90909091 1.\n",
      " 1.09090909 1.18181818 1.27272727 1.36363636 1.45454545 1.54545455\n",
      " 1.63636364 1.72727273 1.81818182 1.90909091 2.         2.09090909\n",
      " 2.18181818 2.27272727 2.36363636 2.45454545 2.54545455 2.63636364\n",
      " 2.72727273 2.81818182 2.90909091 3.         3.09090909 3.18181818\n",
      " 3.27272727 3.36363636 3.45454545 3.54545455 3.63636364 3.72727273\n",
      " 3.81818182 3.90909091 4.         4.09090909 4.18181818 4.27272727\n",
      " 4.36363636 4.45454545 4.54545455 4.63636364 4.72727273 4.81818182\n",
      " 4.90909091 5.         5.09090909 5.18181818 5.27272727 5.36363636\n",
      " 5.45454545 5.54545455 5.63636364 5.72727273 5.81818182 5.90909091\n",
      " 6.         6.09090909 6.18181818 6.27272727 6.36363636 6.45454545\n",
      " 6.54545455 6.63636364 6.72727273 6.81818182 6.90909091 7.\n",
      " 7.09090909 7.18181818 7.27272727 7.36363636 7.45454545 7.54545455\n",
      " 7.63636364 7.72727273 7.81818182 7.90909091 8.         8.09090909\n",
      " 8.18181818 8.27272727 8.36363636 8.45454545 8.54545455 8.63636364\n",
      " 8.72727273 8.81818182 8.90909091 9.        ]\n"
     ]
    }
   ],
   "source": [
    "ar3=np.linspace(0,9,100)\n",
    "print(ar3)"
   ]
  },
  {
   "cell_type": "code",
   "execution_count": null,
   "metadata": {},
   "outputs": [],
   "source": [
    "def Ret_Pregunta06(m1, m2, m3):\n",
    "    m1=np.array([[1,2,3][3,2,4]])\n",
    "    m2=np.array([[3,5,4][4,5,6][4,5,6]])\n",
    "    m3=np.array([[3,2,1][3,7,8][3,6,9]])\n",
    "\n",
    "    try:\n",
    "        result = np.matmul(m1, m2, m3)\n",
    "        return True\n",
    "    except ValueError:\n",
    "        return False\n",
    "\n",
    "(Ret_Pregunta06(m1,m2,m3))\n"
   ]
  },
  {
   "cell_type": "code",
   "execution_count": 60,
   "metadata": {},
   "outputs": [],
   "source": [
    "import numpy as np\n",
    "\n",
    "n1 = np.array([[0,0,0],[1,1,1],[2,2,2]])\n",
    "n2 = np.array([[3,3],[4,4],[5,5]])\n",
    "n3 = np.array([[3,3],[4,4],[5,5]])"
   ]
  },
  {
   "cell_type": "code",
   "execution_count": 61,
   "metadata": {},
   "outputs": [
    {
     "name": "stdout",
     "output_type": "stream",
     "text": [
      "True\n"
     ]
    }
   ],
   "source": [
    "def Ret_Pregunta06(n1, n2, n3):\n",
    "    try:\n",
    "        result = np.matmul(n1, n2, n3)\n",
    "        return True\n",
    "    except ValueError:\n",
    "        return False\n",
    "    \n",
    "print(Ret_Pregunta06(n1, n2, n3))"
   ]
  }
 ],
 "metadata": {
  "kernelspec": {
   "display_name": "Python 3",
   "language": "python",
   "name": "python3"
  },
  "language_info": {
   "codemirror_mode": {
    "name": "ipython",
    "version": 3
   },
   "file_extension": ".py",
   "mimetype": "text/x-python",
   "name": "python",
   "nbconvert_exporter": "python",
   "pygments_lexer": "ipython3",
   "version": "3.11.1"
  },
  "orig_nbformat": 4
 },
 "nbformat": 4,
 "nbformat_minor": 2
}
