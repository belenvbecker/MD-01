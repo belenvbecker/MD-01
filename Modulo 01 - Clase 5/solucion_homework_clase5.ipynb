{
 "cells": [
  {
   "cell_type": "code",
   "execution_count": null,
   "metadata": {},
   "outputs": [],
   "source": [
    "import random"
   ]
  },
  {
   "cell_type": "code",
   "execution_count": null,
   "metadata": {},
   "outputs": [],
   "source": [
    "class Pila : \n",
    "    def _init_(self):\n",
    "        self.items = []\n",
    "        return None\n",
    "    \n",
    "    def esta_vacia(self):\n",
    "        return self.items == []\n",
    "    \n",
    "    \n",
    "    def apilar(self, elemento):\n",
    "        self.items.append(elemento)\n",
    "        return None\n",
    "    def desapilar(self):\n",
    "        return self.items.pop()"
   ]
  },
  {
   "cell_type": "code",
   "execution_count": null,
   "metadata": {},
   "outputs": [],
   "source": [
    "#crear la pila de bnumeros del 1 al 20 ordenados aleatoriamente\n",
    "numeros = list(range(1, 21))\n",
    "numeros"
   ]
  },
  {
   "cell_type": "code",
   "execution_count": null,
   "metadata": {},
   "outputs": [],
   "source": [
    "random.shuffle(numeros)\n"
   ]
  },
  {
   "cell_type": "code",
   "execution_count": null,
   "metadata": {},
   "outputs": [],
   "source": [
    "numeros"
   ]
  },
  {
   "cell_type": "code",
   "execution_count": null,
   "metadata": {},
   "outputs": [],
   "source": [
    "pila = Pila"
   ]
  },
  {
   "cell_type": "code",
   "execution_count": null,
   "metadata": {},
   "outputs": [],
   "source": [
    "pila.items "
   ]
  },
  {
   "cell_type": "code",
   "execution_count": null,
   "metadata": {},
   "outputs": [],
   "source": [
    "for i in numeros:\n",
    "    pila.apilar(i)\n",
    "    "
   ]
  },
  {
   "cell_type": "code",
   "execution_count": null,
   "metadata": {},
   "outputs": [],
   "source": [
    "pila.items"
   ]
  },
  {
   "cell_type": "code",
   "execution_count": null,
   "metadata": {},
   "outputs": [],
   "source": [
    "#pedir al usuarioo cuantos elementos quiere quitar de la pila\n",
    "num_quitar = int(input(\"¿ cuantos elementos desea quitar?\"))\n",
    "#¿cuantos elementos desea quitar? 5"
   ]
  },
  {
   "cell_type": "code",
   "execution_count": null,
   "metadata": {},
   "outputs": [],
   "source": [
    "suma_quitar = 0\n",
    "calificacion = 0 "
   ]
  },
  {
   "cell_type": "code",
   "execution_count": null,
   "metadata": {},
   "outputs": [],
   "source": [
    "for i in range(num_quitar):\n",
    "    if not pila.esta_vacia():\n",
    "        num = pila.desapilar()\n",
    "        print(\"has quitado el numero\", num)\n",
    "        "
   ]
  }
 ],
 "metadata": {
  "kernelspec": {
   "display_name": "Python 3",
   "language": "python",
   "name": "python3"
  },
  "language_info": {
   "name": "python",
   "version": "3.11.4"
  },
  "orig_nbformat": 4
 },
 "nbformat": 4,
 "nbformat_minor": 2
}
