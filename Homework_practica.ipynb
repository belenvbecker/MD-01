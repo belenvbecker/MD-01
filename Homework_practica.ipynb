{
 "cells": [
  {
   "cell_type": "code",
   "execution_count": 44,
   "metadata": {},
   "outputs": [
    {
     "name": "stdout",
     "output_type": "stream",
     "text": [
      "11101\n"
     ]
    }
   ],
   "source": [
    "def NumeroBinario(numero):\n",
    "    if type(numero) != int and numero>-1:\n",
    "        return None\n",
    "    if numero ==0:\n",
    "        return 0\n",
    "        \n",
    "    else:\n",
    "        return bin(numero)[2:]\n",
    "    \n",
    "numero_binario=NumeroBinario(29)\n",
    "print(numero_binario)"
   ]
  },
  {
   "cell_type": "code",
   "execution_count": 11,
   "metadata": {},
   "outputs": [
    {
     "name": "stdout",
     "output_type": "stream",
     "text": [
      "Fracción: 0.5, Representación binaria: 10000000000000000000\n",
      "Fracción: 0.3333333333333333, Representación binaria: 1010101010101010101\n",
      "Fracción: 0.25, Representación binaria: 1000000000000000000\n",
      "Fracción: 0.2, Representación binaria: 110011001100110011\n",
      "Fracción: 0.16666666666666666, Representación binaria: 101010101010101010\n",
      "Fracción: 0.14285714285714285, Representación binaria: 100100100100100100\n",
      "Fracción: 0.125, Representación binaria: 100000000000000000\n",
      "Fracción: 0.1111111111111111, Representación binaria: 11100011100011100\n"
     ]
    }
   ],
   "source": [
    "fractions = [1/2, 1/3, 1/4, 1/5, 1/6, 1/7, 1/8, 1/9]\n",
    "\n",
    "for fraction in fractions:\n",
    "    decimal_value = float(fraction)\n",
    "    binary_representation = bin(int(decimal_value * 2**20))[2:]  \n",
    "    print(f\"Fracción: {fraction}, Representación binaria: {binary_representation}\")"
   ]
  },
  {
   "cell_type": "code",
   "execution_count": 43,
   "metadata": {},
   "outputs": [
    {
     "name": "stdout",
     "output_type": "stream",
     "text": [
      "1100\n"
     ]
    }
   ],
   "source": [
    "def numero_binario(numero):\n",
    "    binario = ''\n",
    "    while numero // 2 != 0:\n",
    "        binario = str(numero % 2) + binario\n",
    "        numero = numero // 2\n",
    "    return str(numero) + binario\n",
    "\n",
    "print(numero_binario(12))"
   ]
  },
  {
   "cell_type": "code",
   "execution_count": 16,
   "metadata": {},
   "outputs": [
    {
     "name": "stdout",
     "output_type": "stream",
     "text": [
      "101\n",
      "100011\n"
     ]
    }
   ],
   "source": [
    "def decimal_a_binario(numero_decimal):\n",
    "    numero_binario = 0\n",
    "    multiplicador = 1\n",
    "\n",
    "    while numero_decimal != 0:\n",
    "        # se almacena el módulo en el orden correcto\n",
    "        numero_binario = numero_binario + numero_decimal % 2 * multiplicador\n",
    "        numero_decimal //= 2\n",
    "        multiplicador *= 10\n",
    "\n",
    "    return numero_binario\n",
    "\n",
    "\n",
    "print(decimal_a_binario(5))\n",
    "print(decimal_a_binario(35))"
   ]
  },
  {
   "cell_type": "code",
   "execution_count": 12,
   "metadata": {},
   "outputs": [
    {
     "data": {
      "text/plain": [
       "0.5"
      ]
     },
     "execution_count": 12,
     "metadata": {},
     "output_type": "execute_result"
    }
   ],
   "source": [
    "numero=1/2\n",
    "abs(numero)"
   ]
  },
  {
   "cell_type": "code",
   "execution_count": 21,
   "metadata": {},
   "outputs": [
    {
     "name": "stdout",
     "output_type": "stream",
     "text": [
      "Fracción: 0.5, Representación binaria: 10000000000000000000\n",
      "Fracción: 0.3333333333333333, Representación binaria: 1010101010101010101\n",
      "Fracción: 0.25, Representación binaria: 1000000000000000000\n",
      "Fracción: 0.2, Representación binaria: 110011001100110011\n",
      "Fracción: 0.16666666666666666, Representación binaria: 101010101010101010\n",
      "Fracción: 0.14285714285714285, Representación binaria: 100100100100100100\n",
      "Fracción: 0.125, Representación binaria: 100000000000000000\n",
      "Fracción: 0.1111111111111111, Representación binaria: 11100011100011100\n"
     ]
    }
   ],
   "source": [
    "fractions = [1/2, 1/3, 1/4, 1/5, 1/6, 1/7, 1/8, 1/9]\n",
    "for fraction in fractions:\n",
    "    decimal_value = abs(fraction)\n",
    "    binary_representation = bin(int(decimal_value * 2**20))[2:]  # Multiplica por 2^20 para obtener suficientes dígitos binarios\n",
    "    print(f\"Fracción: {fraction}, Representación binaria: {binary_representation}\")"
   ]
  },
  {
   "cell_type": "code",
   "execution_count": 32,
   "metadata": {},
   "outputs": [
    {
     "name": "stdout",
     "output_type": "stream",
     "text": [
      "0.5\n"
     ]
    }
   ],
   "source": [
    "\n",
    "    \n",
    "\n",
    "\n",
    "def numero_binario(fraccion):\n",
    "    valor_decimal = abs(fraccion)\n",
    "    binario = ''\n",
    "    while valor_decimal // 2 != 0:\n",
    "        binario = str(fraccion % 2) + binario\n",
    "        valor_decimal = fraccion // 2\n",
    "    return str(valor_decimal) + binario\n",
    "\n",
    "print(numero_binario(1/2))\n"
   ]
  },
  {
   "cell_type": "code",
   "execution_count": 37,
   "metadata": {},
   "outputs": [
    {
     "name": "stdout",
     "output_type": "stream",
     "text": [
      "1100\n"
     ]
    }
   ],
   "source": [
    "def numero_binario(decimal):\n",
    "    binario = ''\n",
    "    while (decimal) // 2 != 0:\n",
    "        binario = str(decimal % 2) + binario\n",
    "        decimal = decimal // 2\n",
    "    return str(decimal) + binario\n",
    "\n",
    "print(numero_binario(12))"
   ]
  },
  {
   "cell_type": "code",
   "execution_count": 40,
   "metadata": {},
   "outputs": [],
   "source": [
    "fractions = [1/2, 1/3, 1/4, 1/5, 1/6, 1/7, 1/8, 1/9]\n",
    "binario=[]\n",
    "for fraction in fractions:\n",
    "    decimal_value = abs(fraction)\n",
    "\n",
    "while int(decimal_value)!=0:\n",
    "    binario.append(int(decimal_value*2))\n",
    "    print(binario)"
   ]
  },
  {
   "cell_type": "code",
   "execution_count": 45,
   "metadata": {},
   "outputs": [
    {
     "name": "stdout",
     "output_type": "stream",
     "text": [
      "0.010101010101010101010101010101010101010101010101010101\n"
     ]
    }
   ],
   "source": [
    "def NumeroBinarioFraccion(numero):\n",
    "    if type(numero)!= float:\n",
    "        return \"El valor ingresado debe ser entero\"\n",
    "    elif numero<0:\n",
    "        return \"El valor ingresado debe ser positivo\"\n",
    "    else:\n",
    "        binario = '0.'\n",
    "        auxiliar = numero\n",
    "        while auxiliar < 2:\n",
    "            auxiliar= auxiliar*2\n",
    "            if auxiliar < 1:\n",
    "                binario = binario + str(0)\n",
    "            elif auxiliar > 1:\n",
    "                binario =binario + str(1)\n",
    "                auxiliar=auxiliar - 1\n",
    "            else:\n",
    "                binario =binario + str(1)\n",
    "                break\n",
    "        return  binario\n",
    "    \n",
    "print(NumeroBinarioFraccion(1/3))"
   ]
  }
 ],
 "metadata": {
  "kernelspec": {
   "display_name": "Python 3",
   "language": "python",
   "name": "python3"
  },
  "language_info": {
   "codemirror_mode": {
    "name": "ipython",
    "version": 3
   },
   "file_extension": ".py",
   "mimetype": "text/x-python",
   "name": "python",
   "nbconvert_exporter": "python",
   "pygments_lexer": "ipython3",
   "version": "3.11.1"
  },
  "orig_nbformat": 4
 },
 "nbformat": 4,
 "nbformat_minor": 2
}
